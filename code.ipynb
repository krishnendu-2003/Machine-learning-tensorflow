{
 "cells": [
  {
   "cell_type": "code",
   "execution_count": 5,
   "id": "a40b1956",
   "metadata": {},
   "outputs": [],
   "source": [
    "import pandas as pd\n",
    "import numpy as np\n",
    "from sklearn.model_selection import train_test_split\n",
    "from sklearn.linear_model import LinearRegression\n",
    "from sklearn.metrics import mean_squared_error, r2_score\n"
   ]
  },
  {
   "cell_type": "code",
   "execution_count": 37,
   "id": "9c873099",
   "metadata": {},
   "outputs": [],
   "source": [
    "# Assuming the dataset is stored in a list of dictionaries as follows:\n",
    "data = [\n",
    "    {\"YearsExperience\": 1.2, \"Salary\": 39344},\n",
    "    {\"YearsExperience\": 1.4, \"Salary\": 46206},\n",
    "    {\"YearsExperience\": 1.6, \"Salary\": 37732},\n",
    "    \n",
    "    {\"YearsExperience\": 2.1, \"salary\": 43526},\n",
    "    {\"YearsExperience\": 2.3, \"salary\": 39892},\n",
    "    \n",
    "    {\"YearsExperience\": 3, \"salary\": 56643},\n",
    "    {\"YearsExperience\": 3.1, \"salary\": 60151},\n",
    "    {\"YearsExperience\": 3.3, \"salary\": 54446},\n",
    "    {\"YearsExperience\": 3.3, \"salary\": 64446},\n",
    "    {\"YearsExperience\": 3.8, \"salary\": 57190},\n",
    "    \n",
    "    {\"YearsExperience\": 4, \"salary\": 63219},\n",
    "    {\"YearsExperience\": 4.1, \"salary\": 55795},\n",
    "    {\"YearsExperience\": 4.1, \"salary\": 56958},\n",
    "    {\"YearsExperience\": 4.2, \"salary\": 57082},\n",
    "    {\"YearsExperience\": 4.6, \"salary\": 61112},\n",
    "    \n",
    "    {\"YearsExperience\": 5, \"salary\": 67939},\n",
    "    {\"YearsExperience\": 5.2, \"salary\": 66030},\n",
    "    {\"YearsExperience\": 5.4, \"salary\": 83089},\n",
    "    \n",
    "    {\"YearsExperience\": 6, \"salary\": 81364},\n",
    "    {\"YearsExperience\": 6.1, \"salary\": 93941},\n",
    "    {\"YearsExperience\": 6.9, \"salary\": 91739},\n",
    "    \n",
    "    {\"YearsExperience\": 7.2, \"salary\": 98274},\n",
    "    \n",
    "    {\"YearsExperience\": 8, \"salary\": 101303},\n",
    "    {\"YearsExperience\": 8.3, \"salary\": 113813},\n",
    "    {\"YearsExperience\": 8.8, \"salary\": 109432},\n",
    "    \n",
    "    {\"YearsExperience\": 9.1, \"salary\": 105583},\n",
    "    {\"YearsExperience\": 9.6, \"salary\": 116970},\n",
    "    {\"YearsExperience\": 9.7, \"salary\": 112636},\n",
    "    \n",
    "    {\"YearsExperience\": 10.4, \"salary\": 122392},\n",
    "    {\"YearsExperience\": 10.6, \"salary\": 121873}\n",
    "\n",
    "    \n",
    "]\n",
    "\n",
    "df = pd.DataFrame(data)\n"
   ]
  },
  {
   "cell_type": "code",
   "execution_count": 34,
   "id": "5962c752",
   "metadata": {},
   "outputs": [
    {
     "name": "stdout",
     "output_type": "stream",
     "text": [
      "YearsExperience    0\n",
      "Salary             0\n",
      "salary             3\n",
      "dtype: int64\n",
      "0\n"
     ]
    }
   ],
   "source": [
    "# Checking for missing values\n",
    "print(df.isnull().sum())\n",
    "\n",
    "print(np.isnan(y_train).sum())"
   ]
  },
  {
   "cell_type": "code",
   "execution_count": 36,
   "id": "f20d18d3",
   "metadata": {},
   "outputs": [],
   "source": [
    "# Loading the dataset into Pandas DataFrame\n",
    "df = pd.DataFrame(data)\n",
    "\n",
    "# Separating the features (YearsExperience) and the target variable (Salary)\n",
    "X = df[\"YearsExperience\"].values.reshape(-1, 1)\n",
    "y = df[\"Salary\"].values\n"
   ]
  },
  {
   "cell_type": "code",
   "execution_count": 32,
   "id": "a5a49cfc",
   "metadata": {},
   "outputs": [
    {
     "name": "stdout",
     "output_type": "stream",
     "text": [
      "YearsExperience    0\n",
      "Salary             0\n",
      "salary             3\n",
      "dtype: int64\n"
     ]
    }
   ],
   "source": [
    "# Check for missing values and handle them if any\n",
    "print(df.isnull().sum())\n",
    "df['Salary'].fillna(df['Salary'].mean(), inplace=True)\n"
   ]
  },
  {
   "cell_type": "code",
   "execution_count": 33,
   "id": "5a26bcd4",
   "metadata": {},
   "outputs": [
    {
     "name": "stdout",
     "output_type": "stream",
     "text": [
      "Mean Squared Error: 15.190351939867867\n",
      "R-squared: 0.0\n"
     ]
    }
   ],
   "source": [
    "\n",
    "# Prepare the data for regression analysis\n",
    "X = df[\"YearsExperience\"].values.reshape(-1, 1)\n",
    "y = df[\"Salary\"].values\n",
    "\n",
    "# Spliting the data into training and testing sets\n",
    "X_train, X_test, y_train, y_test = train_test_split(X, y, test_size=0.2, random_state=42)\n",
    "\n",
    "# Creating a Linear Regression model and fit it to the training data\n",
    "model = LinearRegression()\n",
    "model.fit(X_train, y_train)\n",
    "\n",
    "# Making predictions on the test set\n",
    "y_pred = model.predict(X_test)\n",
    "\n",
    "# Evaluating the model's performance\n",
    "mse = mean_squared_error(y_test, y_pred)\n",
    "r2 = r2_score(y_test, y_pred)\n",
    "\n",
    "# Viewing the model's performance metrics (Mean Squared Error and R-squared)\n",
    "print(\"Mean Squared Error:\", mse)\n",
    "print(\"R-squared:\", r2)\n"
   ]
  },
  {
   "cell_type": "code",
   "execution_count": 25,
   "id": "b0865be5",
   "metadata": {},
   "outputs": [
    {
     "name": "stdout",
     "output_type": "stream",
     "text": [
      "Actual Salaries:\n",
      "[41094. 41094. 41094. 41094. 41094. 41094.]\n"
     ]
    }
   ],
   "source": [
    "# Viewing the actual salaries from the test set\n",
    "print(\"Actual Salaries:\")\n",
    "print(y_test)"
   ]
  },
  {
   "cell_type": "code",
   "execution_count": 26,
   "id": "acaf851e",
   "metadata": {},
   "outputs": [
    {
     "data": {
      "image/png": "[encoded data removed]",
      "text/plain": [
       "<Figure size 640x480 with 1 Axes>"
      ]
     },
     "metadata": {},
     "output_type": "display_data"
    }
   ],
   "source": [
    "# Comparing the actual salaries and the model's predictions visually\n",
    "plt.scatter(X_test, y_test, color='blue', label='Actual')\n",
    "plt.plot(X_test, y_pred, color='red', label='Predicted')\n",
    "plt.xlabel('YearsExperience')\n",
    "plt.ylabel('Salary')\n",
    "plt.legend()\n",
    "plt.show()"
   ]
  },
  {
   "cell_type": "code",
   "execution_count": null,
   "id": "2ac1ed28",
   "metadata": {},
   "outputs": [],
   "source": []
  },
  {
   "cell_type": "code",
   "execution_count": null,
   "id": "134447dc",
   "metadata": {},
   "outputs": [],
   "source": [
    "\n"
   ]
  },
  {
   "cell_type": "code",
   "execution_count": null,
   "id": "b7e6460a",
   "metadata": {},
   "outputs": [],
   "source": []
  }
 ],
 "metadata": {
  "kernelspec": {
   "display_name": "Python 3 (ipykernel)",
   "language": "python",
   "name": "python3"
  },
  "language_info": {
   "codemirror_mode": {
    "name": "ipython",
    "version": 3
   },
   "file_extension": ".py",
   "mimetype": "text/x-python",
   "name": "python",
   "nbconvert_exporter": "python",
   "pygments_lexer": "ipython3",
   "version": "3.11.3"
  }
 },
 "nbformat": 4,
 "nbformat_minor": 5
}
